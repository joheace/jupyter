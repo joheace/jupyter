{
 "cells": [
  {
   "cell_type": "code",
   "execution_count": 4,
   "metadata": {
    "collapsed": true
   },
   "outputs": [],
   "source": [
    "# 获取帮助\n",
    "len?"
   ]
  },
  {
   "cell_type": "code",
   "execution_count": 8,
   "metadata": {},
   "outputs": [
    {
     "data": {
      "text/plain": [
       "9"
      ]
     },
     "execution_count": 8,
     "metadata": {},
     "output_type": "execute_result"
    }
   ],
   "source": [
    "def square(a):\n",
    "    \"\"\" Return square of a\"\"\"\n",
    "    return a ** 2\n",
    "\n",
    "square(3)"
   ]
  },
  {
   "cell_type": "code",
   "execution_count": 1,
   "metadata": {},
   "outputs": [
    {
     "name": "stdout",
     "output_type": "stream",
     "text": [
      "Object `square` not found.\n"
     ]
    }
   ],
   "source": [
    "# 查看源代码\n",
    "square??"
   ]
  },
  {
   "cell_type": "code",
   "execution_count": 13,
   "metadata": {},
   "outputs": [
    {
     "data": {
      "text/plain": [
       "['__add__',\n",
       " '__class__',\n",
       " '__contains__',\n",
       " '__delattr__',\n",
       " '__delitem__',\n",
       " '__dir__',\n",
       " '__doc__',\n",
       " '__eq__',\n",
       " '__format__',\n",
       " '__ge__',\n",
       " '__getattribute__',\n",
       " '__getitem__',\n",
       " '__gt__',\n",
       " '__hash__',\n",
       " '__iadd__',\n",
       " '__imul__',\n",
       " '__init__',\n",
       " '__init_subclass__',\n",
       " '__iter__',\n",
       " '__le__',\n",
       " '__len__',\n",
       " '__lt__',\n",
       " '__mul__',\n",
       " '__ne__',\n",
       " '__new__',\n",
       " '__reduce__',\n",
       " '__reduce_ex__',\n",
       " '__repr__',\n",
       " '__reversed__',\n",
       " '__rmul__',\n",
       " '__setattr__',\n",
       " '__setitem__',\n",
       " '__sizeof__',\n",
       " '__str__',\n",
       " '__subclasshook__',\n",
       " 'append',\n",
       " 'clear',\n",
       " 'copy',\n",
       " 'count',\n",
       " 'extend',\n",
       " 'index',\n",
       " 'insert',\n",
       " 'pop',\n",
       " 'remove',\n",
       " 'reverse',\n",
       " 'sort']"
      ]
     },
     "execution_count": 13,
     "metadata": {},
     "output_type": "execute_result"
    }
   ],
   "source": [
    "L = [1,2,3]\n",
    "L.append(4)  # L.tab 显示L有哪些属性和函数\n",
    "dir(L)       # dir 查看L有哪些个属性和函数"
   ]
  },
  {
   "cell_type": "code",
   "execution_count": 14,
   "metadata": {
    "collapsed": true
   },
   "outputs": [],
   "source": [
    "L.append?"
   ]
  },
  {
   "cell_type": "code",
   "execution_count": 18,
   "metadata": {
    "collapsed": true
   },
   "outputs": [],
   "source": [
    "L.__str__?"
   ]
  },
  {
   "cell_type": "code",
   "execution_count": 20,
   "metadata": {
    "collapsed": true
   },
   "outputs": [],
   "source": [
    "# 通配符匹配，显示所有以Warning为结束的对象\n",
    "*Warning?"
   ]
  },
  {
   "cell_type": "code",
   "execution_count": 22,
   "metadata": {
    "collapsed": true
   },
   "outputs": [],
   "source": [
    "str.*find*?"
   ]
  },
  {
   "cell_type": "code",
   "execution_count": 24,
   "metadata": {
    "collapsed": true
   },
   "outputs": [],
   "source": [
    "str?"
   ]
  },
  {
   "cell_type": "code",
   "execution_count": 31,
   "metadata": {
    "collapsed": true
   },
   "outputs": [],
   "source": [
    "# %paste 命令同时输入并执行该代码，所以你可以看到这个函数现在被应用了\n",
    "%run?"
   ]
  },
  {
   "cell_type": "code",
   "execution_count": 30,
   "metadata": {},
   "outputs": [
    {
     "name": "stdout",
     "output_type": "stream",
     "text": [
      "(4,)\n",
      "(2, 4)\n"
     ]
    }
   ],
   "source": [
    "import numpy\n",
    "vector = numpy.array((1,2,3,4))\n",
    "print(vector.shape) #(4,)\n",
    "vector2 = numpy.array([[1,2,3,4],[5,6,7,8]])\n",
    "print(vector2.shape) #(2, 4)"
   ]
  },
  {
   "cell_type": "code",
   "execution_count": 36,
   "metadata": {},
   "outputs": [
    {
     "name": "stdout",
     "output_type": "stream",
     "text": [
      "28.8 µs ± 773 ns per loop (mean ± std. dev. of 7 runs, 10000 loops each)\n"
     ]
    },
    {
     "data": {
      "text/plain": [
       "4"
      ]
     },
     "execution_count": 36,
     "metadata": {},
     "output_type": "execute_result"
    }
   ],
   "source": [
    "# 魔法函数是%timeit，它会自动计算接下来一行的Python 语句的执行时间\n",
    "%timeit L = [n ** 2 for n in range(100)]\n",
    "len(L)"
   ]
  },
  {
   "cell_type": "code",
   "execution_count": 39,
   "metadata": {},
   "outputs": [
    {
     "data": {
      "application/json": {
       "cell": {
        "!": "OSMagics",
        "HTML": "Other",
        "SVG": "Other",
        "bash": "Other",
        "capture": "ExecutionMagics",
        "cmd": "Other",
        "debug": "ExecutionMagics",
        "file": "Other",
        "html": "DisplayMagics",
        "javascript": "DisplayMagics",
        "js": "DisplayMagics",
        "latex": "DisplayMagics",
        "markdown": "DisplayMagics",
        "perl": "Other",
        "prun": "ExecutionMagics",
        "pypy": "Other",
        "python": "Other",
        "python2": "Other",
        "python3": "Other",
        "ruby": "Other",
        "script": "ScriptMagics",
        "sh": "Other",
        "svg": "DisplayMagics",
        "sx": "OSMagics",
        "system": "OSMagics",
        "time": "ExecutionMagics",
        "timeit": "ExecutionMagics",
        "writefile": "OSMagics"
       },
       "line": {
        "alias": "OSMagics",
        "alias_magic": "BasicMagics",
        "autocall": "AutoMagics",
        "automagic": "AutoMagics",
        "autosave": "KernelMagics",
        "bookmark": "OSMagics",
        "cd": "OSMagics",
        "clear": "KernelMagics",
        "cls": "KernelMagics",
        "colors": "BasicMagics",
        "config": "ConfigMagics",
        "connect_info": "KernelMagics",
        "copy": "Other",
        "ddir": "Other",
        "debug": "ExecutionMagics",
        "dhist": "OSMagics",
        "dirs": "OSMagics",
        "doctest_mode": "BasicMagics",
        "echo": "Other",
        "ed": "Other",
        "edit": "KernelMagics",
        "env": "OSMagics",
        "gui": "BasicMagics",
        "hist": "Other",
        "history": "HistoryMagics",
        "killbgscripts": "ScriptMagics",
        "ldir": "Other",
        "less": "KernelMagics",
        "load": "CodeMagics",
        "load_ext": "ExtensionMagics",
        "loadpy": "CodeMagics",
        "logoff": "LoggingMagics",
        "logon": "LoggingMagics",
        "logstart": "LoggingMagics",
        "logstate": "LoggingMagics",
        "logstop": "LoggingMagics",
        "ls": "Other",
        "lsmagic": "BasicMagics",
        "macro": "ExecutionMagics",
        "magic": "BasicMagics",
        "matplotlib": "PylabMagics",
        "mkdir": "Other",
        "more": "KernelMagics",
        "notebook": "BasicMagics",
        "page": "BasicMagics",
        "pastebin": "CodeMagics",
        "pdb": "ExecutionMagics",
        "pdef": "NamespaceMagics",
        "pdoc": "NamespaceMagics",
        "pfile": "NamespaceMagics",
        "pinfo": "NamespaceMagics",
        "pinfo2": "NamespaceMagics",
        "pip": "BasicMagics",
        "popd": "OSMagics",
        "pprint": "BasicMagics",
        "precision": "BasicMagics",
        "profile": "BasicMagics",
        "prun": "ExecutionMagics",
        "psearch": "NamespaceMagics",
        "psource": "NamespaceMagics",
        "pushd": "OSMagics",
        "pwd": "OSMagics",
        "pycat": "OSMagics",
        "pylab": "PylabMagics",
        "qtconsole": "KernelMagics",
        "quickref": "BasicMagics",
        "recall": "HistoryMagics",
        "rehashx": "OSMagics",
        "reload_ext": "ExtensionMagics",
        "ren": "Other",
        "rep": "Other",
        "rerun": "HistoryMagics",
        "reset": "NamespaceMagics",
        "reset_selective": "NamespaceMagics",
        "rmdir": "Other",
        "run": "ExecutionMagics",
        "save": "CodeMagics",
        "sc": "OSMagics",
        "set_env": "OSMagics",
        "store": "StoreMagics",
        "sx": "OSMagics",
        "system": "OSMagics",
        "tb": "ExecutionMagics",
        "time": "ExecutionMagics",
        "timeit": "ExecutionMagics",
        "unalias": "OSMagics",
        "unload_ext": "ExtensionMagics",
        "who": "NamespaceMagics",
        "who_ls": "NamespaceMagics",
        "whos": "NamespaceMagics",
        "xdel": "NamespaceMagics",
        "xmode": "BasicMagics"
       }
      },
      "text/plain": [
       "Available line magics:\n",
       "%alias  %alias_magic  %autocall  %automagic  %autosave  %bookmark  %cd  %clear  %cls  %colors  %config  %connect_info  %copy  %ddir  %debug  %dhist  %dirs  %doctest_mode  %echo  %ed  %edit  %env  %gui  %hist  %history  %killbgscripts  %ldir  %less  %load  %load_ext  %loadpy  %logoff  %logon  %logstart  %logstate  %logstop  %ls  %lsmagic  %macro  %magic  %matplotlib  %mkdir  %more  %notebook  %page  %pastebin  %pdb  %pdef  %pdoc  %pfile  %pinfo  %pinfo2  %popd  %pprint  %precision  %profile  %prun  %psearch  %psource  %pushd  %pwd  %pycat  %pylab  %qtconsole  %quickref  %recall  %rehashx  %reload_ext  %ren  %rep  %rerun  %reset  %reset_selective  %rmdir  %run  %save  %sc  %set_env  %store  %sx  %system  %tb  %time  %timeit  %unalias  %unload_ext  %who  %who_ls  %whos  %xdel  %xmode\n",
       "\n",
       "Available cell magics:\n",
       "%%!  %%HTML  %%SVG  %%bash  %%capture  %%cmd  %%debug  %%file  %%html  %%javascript  %%js  %%latex  %%markdown  %%perl  %%prun  %%pypy  %%python  %%python2  %%python3  %%ruby  %%script  %%sh  %%svg  %%sx  %%system  %%time  %%timeit  %%writefile\n",
       "\n",
       "Automagic is ON, % prefix IS NOT needed for line magics."
      ]
     },
     "execution_count": 39,
     "metadata": {},
     "output_type": "execute_result"
    }
   ],
   "source": [
    "# 列出所有的魔法函数\n",
    "%lsmagic"
   ]
  },
  {
   "cell_type": "code",
   "execution_count": 41,
   "metadata": {},
   "outputs": [
    {
     "data": {
      "text/plain": [
       "{'ALLUSERSPROFILE': 'C:\\\\ProgramData',\n",
       " 'APPDATA': 'C:\\\\Users\\\\huanglehe\\\\AppData\\\\Roaming',\n",
       " 'ASL.LOG': 'Destination=file',\n",
       " 'CLICOLOR': '1',\n",
       " 'COMMONPROGRAMFILES': 'C:\\\\Program Files\\\\Common Files',\n",
       " 'COMMONPROGRAMFILES(X86)': 'C:\\\\Program Files (x86)\\\\Common Files',\n",
       " 'COMMONPROGRAMW6432': 'C:\\\\Program Files\\\\Common Files',\n",
       " 'COMPUTERNAME': 'ZT-2016517',\n",
       " 'COMSPEC': 'C:\\\\Windows\\\\system32\\\\cmd.exe',\n",
       " 'CONDA_DEFAULT_ENV': 'py3',\n",
       " 'CONDA_PREFIX': 'd:\\\\ProgramData\\\\Anaconda2\\\\envs\\\\py3',\n",
       " 'CONDA_PS1_BACKUP': '$P$G',\n",
       " 'FP_NO_HOST_CHECK': 'NO',\n",
       " 'GIT_PAGER': 'cat',\n",
       " 'HOMEDRIVE': 'C:',\n",
       " 'HOMEPATH': '\\\\Users\\\\huanglehe',\n",
       " 'IPY_INTERRUPT_EVENT': '1760',\n",
       " 'JPY_INTERRUPT_EVENT': '1760',\n",
       " 'JPY_PARENT_PID': '1752',\n",
       " 'LDMS_LOCAL_DIR': 'C:\\\\Program Files (x86)\\\\LANDesk\\\\LDClient\\\\Data',\n",
       " 'LOCALAPPDATA': 'C:\\\\Users\\\\huanglehe\\\\AppData\\\\Local',\n",
       " 'LOGONSERVER': '\\\\\\\\DCSECONDARY',\n",
       " 'MPLBACKEND': 'module://ipykernel.pylab.backend_inline',\n",
       " 'NODE_PATH': 'E:\\\\mobilegame\\\\web\\\\nodejs\\\\node_modules',\n",
       " 'NUMBER_OF_PROCESSORS': '4',\n",
       " 'OS': 'Windows_NT',\n",
       " 'PAGER': 'cat',\n",
       " 'PATH': 'd:\\\\programdata\\\\anaconda2\\\\envs\\\\py3\\\\Library\\\\bin;d:\\\\ProgramData\\\\Anaconda2\\\\envs\\\\py3;d:\\\\ProgramData\\\\Anaconda2\\\\envs\\\\py3\\\\Library\\\\mingw-w64\\\\bin;d:\\\\ProgramData\\\\Anaconda2\\\\envs\\\\py3\\\\Library\\\\usr\\\\bin;d:\\\\ProgramData\\\\Anaconda2\\\\envs\\\\py3\\\\Library\\\\bin;d:\\\\ProgramData\\\\Anaconda2\\\\envs\\\\py3\\\\Scripts;C:\\\\Windows\\\\system32;C:\\\\Windows;C:\\\\Windows\\\\System32\\\\Wbem;C:\\\\Windows\\\\System32\\\\WindowsPowerShell\\\\v1.0\\\\;C:\\\\Program Files\\\\TortoiseSVN\\\\bin;C:\\\\Program Files (x86)\\\\NVIDIA Corporation\\\\PhysX\\\\Common;C:\\\\Program Files\\\\Git\\\\cmd;E:\\\\mobilegame\\\\web\\\\nodejs\\\\;d:\\\\Program Files\\\\Microsoft VS Code\\\\bin;D:\\\\ProgramData\\\\Anaconda2;d:\\\\Program Files\\\\Microsoft VS Code\\\\bin;C:\\\\Users\\\\huanglehe\\\\AppData\\\\Roaming\\\\npm;E:\\\\mobilegame\\\\web\\\\nodejs',\n",
       " 'PATHEXT': '.COM;.EXE;.BAT;.CMD;.VBS;.VBE;.JS;.JSE;.WSF;.WSH;.MSC',\n",
       " 'PROCESSOR_ARCHITECTURE': 'AMD64',\n",
       " 'PROCESSOR_IDENTIFIER': 'Intel64 Family 6 Model 158 Stepping 9, GenuineIntel',\n",
       " 'PROCESSOR_LEVEL': '6',\n",
       " 'PROCESSOR_REVISION': '9e09',\n",
       " 'PROGRAMDATA': 'C:\\\\ProgramData',\n",
       " 'PROGRAMFILES': 'C:\\\\Program Files',\n",
       " 'PROGRAMFILES(X86)': 'C:\\\\Program Files (x86)',\n",
       " 'PROGRAMW6432': 'C:\\\\Program Files',\n",
       " 'PROMPT': '(py3) $P$G',\n",
       " 'PSMODULEPATH': 'C:\\\\Windows\\\\system32\\\\WindowsPowerShell\\\\v1.0\\\\Modules\\\\',\n",
       " 'PUBLIC': 'C:\\\\Users\\\\Public',\n",
       " 'SESSIONNAME': 'Console',\n",
       " 'SYSTEMDRIVE': 'C:',\n",
       " 'SYSTEMROOT': 'C:\\\\Windows',\n",
       " 'TEMP': 'C:\\\\Users\\\\HUANGL~1\\\\AppData\\\\Local\\\\Temp',\n",
       " 'TERM': 'xterm-color',\n",
       " 'TMP': 'C:\\\\Users\\\\HUANGL~1\\\\AppData\\\\Local\\\\Temp',\n",
       " 'UATDATA': 'C:\\\\Windows\\\\CCM\\\\UATData\\\\D9F8C395-CAB8-491d-B8AC-179A1FE1BE77',\n",
       " 'USERDNSDOMAIN': 'ZTGAME.COM',\n",
       " 'USERDOMAIN': 'ZTGAME',\n",
       " 'USERNAME': 'huanglehe',\n",
       " 'USERPROFILE': 'C:\\\\Users\\\\huanglehe',\n",
       " 'WINDIR': 'C:\\\\Windows',\n",
       " 'WINDOWS_TRACING_FLAGS': '3',\n",
       " 'WINDOWS_TRACING_LOGFILE': 'C:\\\\BVTBin\\\\Tests\\\\installpackage\\\\csilogfile.log'}"
      ]
     },
     "execution_count": 41,
     "metadata": {},
     "output_type": "execute_result"
    }
   ],
   "source": [
    "%env"
   ]
  },
  {
   "cell_type": "code",
   "execution_count": 43,
   "metadata": {},
   "outputs": [
    {
     "name": "stdout",
     "output_type": "stream",
     "text": [
      "1\n"
     ]
    }
   ],
   "source": [
    "print(1)"
   ]
  },
  {
   "cell_type": "code",
   "execution_count": 44,
   "metadata": {},
   "outputs": [
    {
     "name": "stdout",
     "output_type": "stream",
     "text": [
      "{'ALLUSERSPROFILE': 'C:\\\\ProgramData', 'APPDATA': 'C:\\\\Users\\\\huanglehe\\\\AppData\\\\Roaming', 'ASL.LOG': 'Destination=file', 'COMMONPROGRAMFILES': 'C:\\\\Program Files\\\\Common Files', 'COMMONPROGRAMFILES(X86)': 'C:\\\\Program Files (x86)\\\\Common Files', 'COMMONPROGRAMW6432': 'C:\\\\Program Files\\\\Common Files', 'COMPUTERNAME': 'ZT-2016517', 'COMSPEC': 'C:\\\\Windows\\\\system32\\\\cmd.exe', 'CONDA_DEFAULT_ENV': 'py3', 'CONDA_PREFIX': 'd:\\\\ProgramData\\\\Anaconda2\\\\envs\\\\py3', 'CONDA_PS1_BACKUP': '$P$G', 'FP_NO_HOST_CHECK': 'NO', 'HOMEDRIVE': 'C:', 'HOMEPATH': '\\\\Users\\\\huanglehe', 'LDMS_LOCAL_DIR': 'C:\\\\Program Files (x86)\\\\LANDesk\\\\LDClient\\\\Data', 'LOCALAPPDATA': 'C:\\\\Users\\\\huanglehe\\\\AppData\\\\Local', 'LOGONSERVER': '\\\\\\\\DCSECONDARY', 'NODE_PATH': 'E:\\\\mobilegame\\\\web\\\\nodejs\\\\node_modules', 'NUMBER_OF_PROCESSORS': '4', 'OS': 'Windows_NT', 'PATH': 'd:\\\\programdata\\\\anaconda2\\\\envs\\\\py3\\\\Library\\\\bin;d:\\\\ProgramData\\\\Anaconda2\\\\envs\\\\py3;d:\\\\ProgramData\\\\Anaconda2\\\\envs\\\\py3\\\\Library\\\\mingw-w64\\\\bin;d:\\\\ProgramData\\\\Anaconda2\\\\envs\\\\py3\\\\Library\\\\usr\\\\bin;d:\\\\ProgramData\\\\Anaconda2\\\\envs\\\\py3\\\\Library\\\\bin;d:\\\\ProgramData\\\\Anaconda2\\\\envs\\\\py3\\\\Scripts;C:\\\\Windows\\\\system32;C:\\\\Windows;C:\\\\Windows\\\\System32\\\\Wbem;C:\\\\Windows\\\\System32\\\\WindowsPowerShell\\\\v1.0\\\\;C:\\\\Program Files\\\\TortoiseSVN\\\\bin;C:\\\\Program Files (x86)\\\\NVIDIA Corporation\\\\PhysX\\\\Common;C:\\\\Program Files\\\\Git\\\\cmd;E:\\\\mobilegame\\\\web\\\\nodejs\\\\;d:\\\\Program Files\\\\Microsoft VS Code\\\\bin;D:\\\\ProgramData\\\\Anaconda2;d:\\\\Program Files\\\\Microsoft VS Code\\\\bin;C:\\\\Users\\\\huanglehe\\\\AppData\\\\Roaming\\\\npm;E:\\\\mobilegame\\\\web\\\\nodejs', 'PATHEXT': '.COM;.EXE;.BAT;.CMD;.VBS;.VBE;.JS;.JSE;.WSF;.WSH;.MSC', 'PROCESSOR_ARCHITECTURE': 'AMD64', 'PROCESSOR_IDENTIFIER': 'Intel64 Family 6 Model 158 Stepping 9, GenuineIntel', 'PROCESSOR_LEVEL': '6', 'PROCESSOR_REVISION': '9e09', 'PROGRAMDATA': 'C:\\\\ProgramData', 'PROGRAMFILES': 'C:\\\\Program Files', 'PROGRAMFILES(X86)': 'C:\\\\Program Files (x86)', 'PROGRAMW6432': 'C:\\\\Program Files', 'PROMPT': '(py3) $P$G', 'PSMODULEPATH': 'C:\\\\Windows\\\\system32\\\\WindowsPowerShell\\\\v1.0\\\\Modules\\\\', 'PUBLIC': 'C:\\\\Users\\\\Public', 'SESSIONNAME': 'Console', 'SYSTEMDRIVE': 'C:', 'SYSTEMROOT': 'C:\\\\Windows', 'TEMP': 'C:\\\\Users\\\\HUANGL~1\\\\AppData\\\\Local\\\\Temp', 'TMP': 'C:\\\\Users\\\\HUANGL~1\\\\AppData\\\\Local\\\\Temp', 'UATDATA': 'C:\\\\Windows\\\\CCM\\\\UATData\\\\D9F8C395-CAB8-491d-B8AC-179A1FE1BE77', 'USERDNSDOMAIN': 'ZTGAME.COM', 'USERDOMAIN': 'ZTGAME', 'USERNAME': 'huanglehe', 'USERPROFILE': 'C:\\\\Users\\\\huanglehe', 'WINDIR': 'C:\\\\Windows', 'WINDOWS_TRACING_FLAGS': '3', 'WINDOWS_TRACING_LOGFILE': 'C:\\\\BVTBin\\\\Tests\\\\installpackage\\\\csilogfile.log', 'JPY_INTERRUPT_EVENT': '1760', 'IPY_INTERRUPT_EVENT': '1760', 'JPY_PARENT_PID': '1752', 'TERM': 'xterm-color', 'CLICOLOR': '1', 'PAGER': 'cat', 'GIT_PAGER': 'cat', 'MPLBACKEND': 'module://ipykernel.pylab.backend_inline'}\n"
     ]
    }
   ],
   "source": [
    "print(_)"
   ]
  },
  {
   "cell_type": "code",
   "execution_count": 45,
   "metadata": {},
   "outputs": [
    {
     "name": "stdout",
     "output_type": "stream",
     "text": [
      "{'ALLUSERSPROFILE': 'C:\\\\ProgramData', 'APPDATA': 'C:\\\\Users\\\\huanglehe\\\\AppData\\\\Roaming', 'ASL.LOG': 'Destination=file', 'COMMONPROGRAMFILES': 'C:\\\\Program Files\\\\Common Files', 'COMMONPROGRAMFILES(X86)': 'C:\\\\Program Files (x86)\\\\Common Files', 'COMMONPROGRAMW6432': 'C:\\\\Program Files\\\\Common Files', 'COMPUTERNAME': 'ZT-2016517', 'COMSPEC': 'C:\\\\Windows\\\\system32\\\\cmd.exe', 'CONDA_DEFAULT_ENV': 'py3', 'CONDA_PREFIX': 'd:\\\\ProgramData\\\\Anaconda2\\\\envs\\\\py3', 'CONDA_PS1_BACKUP': '$P$G', 'FP_NO_HOST_CHECK': 'NO', 'HOMEDRIVE': 'C:', 'HOMEPATH': '\\\\Users\\\\huanglehe', 'LDMS_LOCAL_DIR': 'C:\\\\Program Files (x86)\\\\LANDesk\\\\LDClient\\\\Data', 'LOCALAPPDATA': 'C:\\\\Users\\\\huanglehe\\\\AppData\\\\Local', 'LOGONSERVER': '\\\\\\\\DCSECONDARY', 'NODE_PATH': 'E:\\\\mobilegame\\\\web\\\\nodejs\\\\node_modules', 'NUMBER_OF_PROCESSORS': '4', 'OS': 'Windows_NT', 'PATH': 'd:\\\\programdata\\\\anaconda2\\\\envs\\\\py3\\\\Library\\\\bin;d:\\\\ProgramData\\\\Anaconda2\\\\envs\\\\py3;d:\\\\ProgramData\\\\Anaconda2\\\\envs\\\\py3\\\\Library\\\\mingw-w64\\\\bin;d:\\\\ProgramData\\\\Anaconda2\\\\envs\\\\py3\\\\Library\\\\usr\\\\bin;d:\\\\ProgramData\\\\Anaconda2\\\\envs\\\\py3\\\\Library\\\\bin;d:\\\\ProgramData\\\\Anaconda2\\\\envs\\\\py3\\\\Scripts;C:\\\\Windows\\\\system32;C:\\\\Windows;C:\\\\Windows\\\\System32\\\\Wbem;C:\\\\Windows\\\\System32\\\\WindowsPowerShell\\\\v1.0\\\\;C:\\\\Program Files\\\\TortoiseSVN\\\\bin;C:\\\\Program Files (x86)\\\\NVIDIA Corporation\\\\PhysX\\\\Common;C:\\\\Program Files\\\\Git\\\\cmd;E:\\\\mobilegame\\\\web\\\\nodejs\\\\;d:\\\\Program Files\\\\Microsoft VS Code\\\\bin;D:\\\\ProgramData\\\\Anaconda2;d:\\\\Program Files\\\\Microsoft VS Code\\\\bin;C:\\\\Users\\\\huanglehe\\\\AppData\\\\Roaming\\\\npm;E:\\\\mobilegame\\\\web\\\\nodejs', 'PATHEXT': '.COM;.EXE;.BAT;.CMD;.VBS;.VBE;.JS;.JSE;.WSF;.WSH;.MSC', 'PROCESSOR_ARCHITECTURE': 'AMD64', 'PROCESSOR_IDENTIFIER': 'Intel64 Family 6 Model 158 Stepping 9, GenuineIntel', 'PROCESSOR_LEVEL': '6', 'PROCESSOR_REVISION': '9e09', 'PROGRAMDATA': 'C:\\\\ProgramData', 'PROGRAMFILES': 'C:\\\\Program Files', 'PROGRAMFILES(X86)': 'C:\\\\Program Files (x86)', 'PROGRAMW6432': 'C:\\\\Program Files', 'PROMPT': '(py3) $P$G', 'PSMODULEPATH': 'C:\\\\Windows\\\\system32\\\\WindowsPowerShell\\\\v1.0\\\\Modules\\\\', 'PUBLIC': 'C:\\\\Users\\\\Public', 'SESSIONNAME': 'Console', 'SYSTEMDRIVE': 'C:', 'SYSTEMROOT': 'C:\\\\Windows', 'TEMP': 'C:\\\\Users\\\\HUANGL~1\\\\AppData\\\\Local\\\\Temp', 'TMP': 'C:\\\\Users\\\\HUANGL~1\\\\AppData\\\\Local\\\\Temp', 'UATDATA': 'C:\\\\Windows\\\\CCM\\\\UATData\\\\D9F8C395-CAB8-491d-B8AC-179A1FE1BE77', 'USERDNSDOMAIN': 'ZTGAME.COM', 'USERDOMAIN': 'ZTGAME', 'USERNAME': 'huanglehe', 'USERPROFILE': 'C:\\\\Users\\\\huanglehe', 'WINDIR': 'C:\\\\Windows', 'WINDOWS_TRACING_FLAGS': '3', 'WINDOWS_TRACING_LOGFILE': 'C:\\\\BVTBin\\\\Tests\\\\installpackage\\\\csilogfile.log', 'JPY_INTERRUPT_EVENT': '1760', 'IPY_INTERRUPT_EVENT': '1760', 'JPY_PARENT_PID': '1752', 'TERM': 'xterm-color', 'CLICOLOR': '1', 'PAGER': 'cat', 'GIT_PAGER': 'cat', 'MPLBACKEND': 'module://ipykernel.pylab.backend_inline'}\n"
     ]
    }
   ],
   "source": [
    "print(__)"
   ]
  },
  {
   "cell_type": "code",
   "execution_count": 46,
   "metadata": {},
   "outputs": [
    {
     "name": "stdout",
     "output_type": "stream",
     "text": [
      "import ast\n",
      "\n",
      "t = ast.parse(\"\"\"\n",
      "d = {}\n",
      "for i in 'abcdefghijklm':\n",
      "    d[i + i] = ord(i) - ord('a') + 1\n",
      "print d\n",
      "\"\"\")\n",
      "print ast.dump(t)\n",
      "len??\n",
      "len?\n",
      "len?\n",
      "def sqaure(a):\n",
      "    \"\"\" Return square of a\"\"\"\n",
      "    return a ** 2\n",
      "\n",
      "square(3)\n",
      "def sqaare(a):\n",
      "    \"\"\" Return square of a\"\"\"\n",
      "    return a ** 2\n",
      "\n",
      "square(3)\n",
      "def square(a):\n",
      "    \"\"\" Return square of a\"\"\"\n",
      "    return a ** 2\n",
      "\n",
      "square(3)\n",
      "def square(a):\n",
      "    \"\"\" Return square of a\"\"\"\n",
      "    return a ** 2\n",
      "\n",
      "square(3)\n",
      "square??\n",
      "# 查看源代码\n",
      "square??\n",
      "L = [1,2,3]\n",
      "L.append(4)  # L.tab 显示L有哪些属性和函数\n",
      "L\n",
      "L = [1,2,3]\n",
      "L.append(4)  # L.tab 显示L有哪些属性和函数\n",
      "dir(L)\n",
      "L = [1,2,3]\n",
      "L.append(4)  # L.tab 显示L有哪些属性和函数\n",
      "dir(L)       # dir 查看L有哪些个属性和函数\n",
      "L.append?\n",
      "L.str\n",
      "L.str?\n",
      "L.__str__\n",
      "L.__str__?\n",
      "*Warning?\n",
      "# 通配符匹配，显示所有以Warning为结束的对象\n",
      "*Warning?\n",
      "str.*find*?\n",
      "str.*find*?\n",
      "str?\n",
      "str?\n",
      "# %paste 命令同时输入并执行该代码，所以你可以看到这个函数现在被应用了\n",
      "%paste\n",
      "        vector= numpy.array((1,2,3,4))\n",
      "        print(vector.shape) #(4,)\n",
      "        vector2=numpy.array([[1,2,3,4],[5,6,7,8]])\n",
      "        print(vector2.shape) #(2, 4)\n",
      "# %paste 命令同时输入并执行该代码，所以你可以看到这个函数现在被应用了\n",
      "%paste\n",
      "vector = numpy.array((1,2,3,4))\n",
      "print(vector.shape) #(4,)\n",
      "vector2 = numpy.array([[1,2,3,4],[5,6,7,8]])\n",
      "print(vector2.shape) #(2, 4)\n",
      "# %paste 命令同时输入并执行该代码，所以你可以看到这个函数现在被应用了\n",
      "%paste\n",
      "# %paste 命令同时输入并执行该代码，所以你可以看到这个函数现在被应用了\n",
      "%paste\n",
      "vector = numpy.array((1,2,3,4))\n",
      "print(vector.shape) #(4,)\n",
      "vector2 = numpy.array([[1,2,3,4],[5,6,7,8]])\n",
      "print(vector2.shape) #(2, 4)\n",
      "import numpy\n",
      "vector = numpy.array((1,2,3,4))\n",
      "print(vector.shape) #(4,)\n",
      "vector2 = numpy.array([[1,2,3,4],[5,6,7,8]])\n",
      "print(vector2.shape) #(2, 4)\n",
      "# %paste 命令同时输入并执行该代码，所以你可以看到这个函数现在被应用了\n",
      "%run?\n",
      "%timeit L = [n ** 2 for n in range(1000)]\n",
      "# 魔法函数是%timeit，它会自动计算接下来一行的Python 语句的执行时间\n",
      "%timeit L = [n ** 2 for n in range(10000)]\n",
      "# 魔法函数是%timeit，它会自动计算接下来一行的Python 语句的执行时间\n",
      "%timeit L = [n ** 2 for n in range(100)]\n",
      "L\n",
      "# 魔法函数是%timeit，它会自动计算接下来一行的Python 语句的执行时间\n",
      "%timeit L = [n ** 2 for n in range(100)]\n",
      "len(L)\n",
      "# 魔法函数是%timeit，它会自动计算接下来一行的Python 语句的执行时间\n",
      "%timeit L = [n ** 2 for n in range(100)]\n",
      "len(L)\n",
      "%magic?\n",
      "%magic\n",
      "%lsmagic\n",
      "%env\n",
      "%env\n",
      "print(1)\n",
      "print(1)\n",
      "print(_)\n",
      "print(__)\n",
      "%history\n"
     ]
    }
   ],
   "source": [
    "%history\n"
   ]
  },
  {
   "cell_type": "code",
   "execution_count": 49,
   "metadata": {},
   "outputs": [
    {
     "name": "stdout",
     "output_type": "stream",
     "text": [
      " 驱动器 E 中的卷没有标签。\n",
      " 卷的序列号是 0001-5A85\n",
      "\n",
      " E:\\mobilegame\\usedoc\\python\\py3 的目录\n",
      "\n",
      "2018/08/29  16:01    <DIR>          .\n",
      "2018/08/29  16:01    <DIR>          ..\n",
      "2018/08/29  14:26    <DIR>          .ipynb_checkpoints\n",
      "2018/08/29  16:01            26,625 python_base.ipynb\n",
      "2018/08/29  14:27               867 python_numpy.ipynb\n",
      "2018/08/29  14:28               867 python_pandas.ipynb\n",
      "               3 个文件         28,359 字节\n",
      "               3 个目录 423,335,444,480 可用字节\n"
     ]
    }
   ],
   "source": [
    "%ls\n"
   ]
  },
  {
   "cell_type": "code",
   "execution_count": 50,
   "metadata": {
    "collapsed": true
   },
   "outputs": [],
   "source": [
    "# 相关指令：\n",
    "# %load test_research.py              # 加载文件\n",
    "# %run test_research.py               # 执行文件\n",
    "# %xmode Verbose                      # 出错打出详细信息\n",
    "# %xmode Plain                        #出错打出简单信息\n",
    "# %pdb on                             # 遇到报错时进入调试,  bt, up, donw, ?\n",
    "# %debug                              # 直接进入调试\n",
    "# ls                                  # 列出当前目录文件\n",
    "# who                                 # 列出全局变量\n",
    "# pwd                                 # 当前目录路径\n",
    "# %%bash,%%HTML,%%python2,%%ruby      # 指定解释器"
   ]
  },
  {
   "cell_type": "code",
   "execution_count": 57,
   "metadata": {},
   "outputs": [
    {
     "name": "stdout",
     "output_type": "stream",
     "text": [
      "1\n",
      "1\n",
      "491285984\n",
      "491285984\n",
      "1\n",
      "2\n",
      "491286016\n"
     ]
    }
   ],
   "source": [
    "a = 1\n",
    "b = a\n",
    "print(a)\n",
    "print(b)\n",
    "print(id(a))\n",
    "print(id(b))\n",
    "b = 2\n",
    "print(a)\n",
    "print(b)\n",
    "print(id(b))\n"
   ]
  },
  {
   "cell_type": "code",
   "execution_count": 60,
   "metadata": {},
   "outputs": [
    {
     "name": "stdout",
     "output_type": "stream",
     "text": [
      "[0, [1, 2], 3]\n",
      "[0, [1, 2], 3]\n",
      "[8, [1, 9], 3]\n",
      "[0, [1, 9], 3]\n"
     ]
    }
   ],
   "source": [
    "# 浅复制\n",
    "a = [0, [1, 2], 3]\n",
    "b = a[:]\n",
    "print(a)\n",
    "print(b)\n",
    "\n",
    "a[0] = 8\n",
    "a[1][1] = 9\n",
    "print(a)\n",
    "print(b)"
   ]
  },
  {
   "cell_type": "code",
   "execution_count": 62,
   "metadata": {},
   "outputs": [
    {
     "name": "stdout",
     "output_type": "stream",
     "text": [
      "[0, [1, 2], 3]\n",
      "[0, [1, 2], 3]\n",
      "[8, [1, 9], 3]\n",
      "[0, [1, 2], 3]\n"
     ]
    }
   ],
   "source": [
    "# 深复制(deep copy)，方法是\n",
    "import copy\n",
    "\n",
    "a = [0, [1, 2], 3]\n",
    "b = copy.deepcopy(a)\n",
    "print(a)\n",
    "print(b)\n",
    "\n",
    "a[0] = 8\n",
    "a[1][1] = 9\n",
    "print(a)\n",
    "print(b)"
   ]
  },
  {
   "cell_type": "code",
   "execution_count": 64,
   "metadata": {},
   "outputs": [
    {
     "data": {
      "text/plain": [
       "[bool, str, float, int]"
      ]
     },
     "execution_count": 64,
     "metadata": {},
     "output_type": "execute_result"
    }
   ],
   "source": [
    "L3 = [True, \"2\", 3.0, 4]\n",
    "[type(item) for item in L3]\n"
   ]
  },
  {
   "cell_type": "code",
   "execution_count": 15,
   "metadata": {},
   "outputs": [
    {
     "name": "stdout",
     "output_type": "stream",
     "text": [
      "[0, 1, 2, 3, 4, 5, 6, 7, 8, 9]\n",
      "array('i', [0, 1, 2, 3, 4, 5, 6, 7, 8, 9])\n"
     ]
    }
   ],
   "source": [
    "import array\n",
    "L = list(range(10))\n",
    "A = array.array('i', L)\n",
    "print(L)\n",
    "print(A)\n"
   ]
  },
  {
   "cell_type": "code",
   "execution_count": 16,
   "metadata": {},
   "outputs": [],
   "source": [
    "# property 描述器\n",
    "class Property(object):\n",
    "    \"Emulate PyProperty_Type() in Objects/descrobject.c\"\n",
    "\n",
    "    def __init__(self, fget=None, fset=None, fdel=None, doc=None):\n",
    "        self.fget = fget\n",
    "        self.fset = fset\n",
    "        self.fdel = fdel\n",
    "        if doc is None and fget is not None:\n",
    "            doc = fget.__doc__\n",
    "        self.__doc__ = doc\n",
    "\n",
    "    def __get__(self, obj, objtype=None):\n",
    "        if obj is None:\n",
    "            return self\n",
    "        if self.fget is None:\n",
    "            raise AttributeError(\"unreadable attribute\")\n",
    "        return self.fget(obj)\n",
    "\n",
    "    def __set__(self, obj, value):\n",
    "        if self.fset is None:\n",
    "            raise AttributeError(\"can't set attribute\")\n",
    "        self.fset(obj, value)\n",
    "\n",
    "    def __delete__(self, obj):\n",
    "        if self.fdel is None:\n",
    "            raise AttributeError(\"can't delete attribute\")\n",
    "        self.fdel(obj)\n",
    "\n",
    "    def getter(self, fget):\n",
    "        return type(self)(fget, self.fset, self.fdel, self.__doc__)\n",
    "\n",
    "    def setter(self, fset):\n",
    "        return type(self)(self.fget, fset, self.fdel, self.__doc__)\n",
    "\n",
    "    def deleter(self, fdel):\n",
    "        return type(self)(self.fget, self.fset, fdel, self.__doc__)\n"
   ]
  },
  {
   "cell_type": "code",
   "execution_count": 19,
   "metadata": {},
   "outputs": [
    {
     "name": "stdout",
     "output_type": "stream",
     "text": [
      "hello\n",
      "world\n",
      "time is 1000 ms\n"
     ]
    }
   ],
   "source": [
    "# 装饰器  https://blog.csdn.net/xiangxianghehe/article/details/77170585\n",
    "# 装饰器就像一个注入符号：有了它，拓展了原来函数的功能既不需要侵入函数内更改代码，也不需要重复执行原函数。\n",
    "import time\n",
    "\n",
    "def deco(func):\n",
    "    def wrapper():\n",
    "        startTime = time.time()\n",
    "        func()\n",
    "        endTime = time.time()\n",
    "        msecs = (endTime - startTime)*1000\n",
    "        print(\"time is %d ms\" %msecs)\n",
    "    return wrapper\n",
    "\n",
    "\n",
    "@deco               # func = deco(func)\n",
    "def func():\n",
    "    print(\"hello\")\n",
    "    time.sleep(1)\n",
    "    print(\"world\")\n",
    "\n",
    "\n",
    "func()"
   ]
  },
  {
   "cell_type": "code",
   "execution_count": 17,
   "metadata": {},
   "outputs": [
    {
     "name": "stdout",
     "output_type": "stream",
     "text": [
      "white dog\n",
      "Name: white dog\n",
      "Age: 0\n"
     ]
    }
   ],
   "source": [
    "# python property : 魔法方法，描述器，装饰器 , https://www.jianshu.com/p/58f1df955bda\n",
    "class Animal(object):\n",
    "    def __init__(self, name, age):\n",
    "        self._name = name\n",
    "        self._age = age\n",
    "        self._color = 'Black'\n",
    "\n",
    "    @property             # name = property(name_f)\n",
    "    def name(self):              \n",
    "        return self._name\n",
    "\n",
    "    @name.setter          # name = name.setter(name_f)\n",
    "    def name(self, value):\n",
    "        self._name = value\n",
    "        print(self._name)\n",
    "\n",
    "    @property\n",
    "    def age(self):\n",
    "        return self._age\n",
    "\n",
    "    @age.setter\n",
    "    def age(self, value):\n",
    "        if value > 0 and value < 100:\n",
    "            self._age = value\n",
    "        else:\n",
    "            self._age = 0\n",
    "            # print 'invalid age value.'\n",
    "\n",
    "    @property\n",
    "    def color(self):\n",
    "        return self._color\n",
    "\n",
    "    @color.setter\n",
    "    def color(self, value):\n",
    "        self._color = value;\n",
    "    \n",
    "\n",
    "a = Animal('black dog', 3)\n",
    "a.name = 'white dog'\n",
    "a.age = 300\n",
    "print('Name:', a.name) \n",
    "print('Age:', a.age)"
   ]
  },
  {
   "cell_type": "code",
   "execution_count": 23,
   "metadata": {},
   "outputs": [
    {
     "name": "stdout",
     "output_type": "stream",
     "text": [
      "Hello, world.\n"
     ]
    }
   ],
   "source": [
    "# 元类 : 道生一，一生二，二生三，三生万物\n",
    "# 道 即是 type\n",
    "# 一 即是 metaclass(元类，或者叫类生成器)\n",
    "# 二 即是 class(类，或者叫实例生成器)\n",
    "# 三 即是 instance(实例)\n",
    "# 万物 即是 实例的各种属性与方法，我们平常使用python时，调用的就是它们。\n",
    "def fn(self, name='world'): # 假如我们有一个函数叫fn\n",
    "    print('Hello, %s.' % name)\n",
    "\n",
    "# 通过type创建Hello class ---- 神秘的“道”，可以点化一切，这次我们直接从“道”生出了“二”\n",
    "# 第一个参数：我是谁。 在这里，我需要一个区分于其它一切的命名，以上的实例将我命名为“Hello”\n",
    "# 第二个参数：我从哪里来\n",
    "# 在这里，我需要知道从哪里来，也就是我的“父类”，以上实例中我的父类是“object”——python中一种非常初级的类。\n",
    "# 第三个参数：我要到哪里去\n",
    "# 在这里，我们将需要调用的方法和属性包含到一个字典里，再作为参数传入。以上实例中，我们有一个say_hello方法包装进了字典中。\n",
    "Hello = type('Hello', (object,), dict(say_hello=fn)) \n",
    "hl = Hello()\n",
    "hl.say_hello('world')"
   ]
  },
  {
   "cell_type": "code",
   "execution_count": 24,
   "metadata": {},
   "outputs": [
    {
     "name": "stdout",
     "output_type": "stream",
     "text": [
      "Hello,world!!\n"
     ]
    }
   ],
   "source": [
    "# 1、元类是由“type”衍生而出，所以父类需要传入type。【道生一，所以一必须包含道】\n",
    "# 2、元类的操作都在 __new__中完成，它的第一个参数是将创建的类，\n",
    "#   之后的参数即是三大永恒命题：我是谁，我从哪里来，我将到哪里去。 它返回的对象也是三大永恒命题，接下来，这三个参数将一直陪伴我们。\n",
    "# 道生一：传入type\n",
    "class SayMetaClass(type):\n",
    "    # 传入三大永恒命题：类名称、父类、属性\n",
    "    def __new__(cls, name, bases, attrs):\n",
    "        # 创造“天赋”\n",
    "        attrs['say_'+name] = lambda self,value,saying=name: print(saying+','+value+'!')\n",
    "        # 传承三大永恒命题：类名称、父类、属性\n",
    "        return type.__new__(cls, name, bases, attrs)\n",
    " \n",
    "\n",
    "# 一生二：创建类\n",
    "class Hello(object, metaclass=SayMetaClass):\n",
    "    pass\n",
    " \n",
    "# 二生三：创建实列\n",
    "hello = Hello()\n",
    "# 三生万物：调用实例方法\n",
    "hello.say_Hello('world!')"
   ]
  },
  {
   "cell_type": "code",
   "execution_count": 25,
   "metadata": {},
   "outputs": [
    {
     "name": "stdout",
     "output_type": "stream",
     "text": [
      "Sayolala,japan!!\n"
     ]
    }
   ],
   "source": [
    "# 一生二：创建类\n",
    "class Sayolala(object, metaclass=SayMetaClass):\n",
    "    pass\n",
    " \n",
    "# 二生三：创建实列\n",
    "s = Sayolala()\n",
    "# 三生万物：调用实例方法\n",
    "s.say_Sayolala('japan!')"
   ]
  },
  {
   "cell_type": "code",
   "execution_count": 27,
   "metadata": {},
   "outputs": [
    {
     "name": "stdout",
     "output_type": "stream",
     "text": [
      "======== time model 1 ================\n",
      "Fri Sep  7 15:16:04 2018\n",
      "1536304564.814\n",
      "time.struct_time(tm_year=2018, tm_mon=9, tm_mday=7, tm_hour=7, tm_min=16, tm_sec=4, tm_wday=4, tm_yday=250, tm_isdst=0)\n",
      "time.struct_time(tm_year=2018, tm_mon=9, tm_mday=7, tm_hour=15, tm_min=16, tm_sec=4, tm_wday=4, tm_yday=250, tm_isdst=0)\n",
      "time.struct_time(tm_year=2018, tm_mon=8, tm_mday=29, tm_hour=1, tm_min=2, tm_sec=44, tm_wday=2, tm_yday=241, tm_isdst=0)\n",
      "Fri Sep  7 15:16:04 2018\n",
      "Fri Sep  7 15:16:04 2018\n",
      "2018-09-07\n",
      "2018-09-07\n",
      "======== time model 2 ================\n",
      "time.struct_time(tm_year=2016, tm_mon=5, tm_mday=22, tm_hour=0, tm_min=0, tm_sec=0, tm_wday=6, tm_yday=143, tm_isdst=-1)\n",
      "1463846400.0\n",
      "time.struct_time(tm_year=2018, tm_mon=9, tm_mday=6, tm_hour=7, tm_min=12, tm_sec=5, tm_wday=3, tm_yday=249, tm_isdst=0)\n",
      "2018-09-07 07:16:05\n"
     ]
    }
   ],
   "source": [
    "# time & datetime模块\n",
    "import time\n",
    "import datetime\n",
    "\n",
    "print('======== time model 1 ================')\n",
    "print(time.asctime())      # 返回时间格式：Sun May  7 21:46:15 2017\n",
    "print(time.time())         # 返回时间戳 ‘1494164954.6677325’\n",
    "print(time.gmtime())       # 返回本地时间的struct time对象格式，time.struct_time(tm_year=2017, tm_mon=5, tm_mday=7, tm_hour=22, tm_min=4, tm_sec=53, tm_wday=6, tm_yday=127, tm_isdst=0)\n",
    "print(time.localtime())    # 返回本地时间的struct time对象格式，time.struct_time(tm_year=2017, tm_mon=5, tm_mday=7, tm_hour=22, tm_min=4, tm_sec=53, tm_wday=6, tm_yday=127, tm_isdst=0)\n",
    "print(time.gmtime(time.time()-800000))   # 返回utc时间的struc时间对象格式\n",
    "print(time.asctime(time.localtime()))    # 返回时间格式Sun May  7 22:15:09 2017\n",
    "print(time.ctime())                      # 返回时间格式Sun May  7 22:15:09 2017\n",
    "print(time.strftime('%Y-%m-%d'))         #默认当前时间 2017-05-07\n",
    "print(time.strftime('%Y-%m-%d',time.localtime())) #默认当前时间 2017-05-07\n",
    "\n",
    "print('============= time model 2 ================')\n",
    "string_struct = time.strptime(\"2016/05/22\",\"%Y/%m/%d\") # 将日期字符串 转成 struct时间对象格式\n",
    "print(string_struct)  # 返回struct time对象格式 time.struct_time(tm_year=2016, tm_mon=5, tm_mday=22, tm_hour=0, tm_min=0, tm_sec=0, tm_wday=6, tm_yday=143, tm_isdst=-1)\n",
    "# 将日期字符串转成时间戳\n",
    "struct_stamp = time.mktime(string_struct) # 将struct time时间对象转成时间戳\n",
    "print(struct_stamp)                         # 返回时间戳 ‘1463846400.0’\n",
    "# 将时间戳转为字符串格式\n",
    "print(time.gmtime(time.time()-86640))         # 将utc时间戳转换成struct_time格式\n",
    "print(time.strftime(\"%Y-%m-%d %H:%M:%S\",time.gmtime()) ) # 将utc struct_time格式转成指定的字符串格式\n",
    "\n"
   ]
  },
  {
   "cell_type": "code",
   "execution_count": 28,
   "metadata": {
    "scrolled": true
   },
   "outputs": [
    {
     "name": "stdout",
     "output_type": "stream",
     "text": [
      "================= 时间加减 ================\n",
      "2018-09-07 15:32:34.624999\n",
      "2018-09-07\n",
      "2018-09-10 15:32:34.627999\n",
      "2018-09-04 15:32:34.656999\n",
      "2018-09-07 18:32:34.656999\n",
      "2018-09-07 16:02:34.656999\n",
      "2018-09-07 15:32:34.656999\n",
      "2018-09-07 02:03:34.656999\n",
      "<class 'datetime.timedelta'>\n",
      "2018-09-02 15:32:34.657999\n"
     ]
    }
   ],
   "source": [
    "# 时间加减\n",
    "print('================= 时间加减 ================')\n",
    "print(datetime.datetime.now())           # 返回当前时间 2017-05-07 22:36:45.179732\n",
    "print(datetime.date.fromtimestamp(time.time()))  # 时间戳直接转换成日期格式 2017-05-07\n",
    "print(datetime.datetime.now() + datetime.timedelta(3))    # 返回时间在当前日期上 +3 天\n",
    "print(datetime.datetime.now() + datetime.timedelta(-3))    # 返回时间在当前日期上 -3 天\n",
    "print(datetime.datetime.now() + datetime.timedelta(hours= 3)) # 返回时间在当前时间上 +3 小时\n",
    "print(datetime.datetime.now() + datetime.timedelta(minutes= 30)) # 返回时间在当前时间上 +30 分钟\n",
    "\n",
    "c_time  = datetime.datetime.now()\n",
    "print(c_time)                          # 当前时间为 2017-05-07 22:52:44.016732\n",
    "print(c_time.replace(minute=3,hour=2)) # 时间替换 替换时间为‘2017-05-07 02:03:18.181732’\n",
    "\n",
    "print(datetime.timedelta)      # 表示时间间隔，即两个时间点之间的长度\n",
    "print (datetime.datetime.now() - datetime.timedelta(days=5))  # 返回时间在当前时间上 -5 天"
   ]
  },
  {
   "cell_type": "code",
   "execution_count": 30,
   "metadata": {},
   "outputs": [
    {
     "name": "stdout",
     "output_type": "stream",
     "text": [
      "                                  2018\n",
      "\n",
      "      January                   February                   March\n",
      "We Th Fr Sa Su Mo Tu      We Th Fr Sa Su Mo Tu      We Th Fr Sa Su Mo Tu\n",
      "                1  2          1  2  3  4  5  6          1  2  3  4  5  6\n",
      " 3  4  5  6  7  8  9       7  8  9 10 11 12 13       7  8  9 10 11 12 13\n",
      "10 11 12 13 14 15 16      14 15 16 17 18 19 20      14 15 16 17 18 19 20\n",
      "17 18 19 20 21 22 23      21 22 23 24 25 26 27      21 22 23 24 25 26 27\n",
      "24 25 26 27 28 29 30      28                        28 29 30 31\n",
      "31\n",
      "\n",
      "       April                      May                       June\n",
      "We Th Fr Sa Su Mo Tu      We Th Fr Sa Su Mo Tu      We Th Fr Sa Su Mo Tu\n",
      "             1  2  3                         1             1  2  3  4  5\n",
      " 4  5  6  7  8  9 10       2  3  4  5  6  7  8       6  7  8  9 10 11 12\n",
      "11 12 13 14 15 16 17       9 10 11 12 13 14 15      13 14 15 16 17 18 19\n",
      "18 19 20 21 22 23 24      16 17 18 19 20 21 22      20 21 22 23 24 25 26\n",
      "25 26 27 28 29 30         23 24 25 26 27 28 29      27 28 29 30\n",
      "                          30 31\n",
      "\n",
      "        July                     August                  September\n",
      "We Th Fr Sa Su Mo Tu      We Th Fr Sa Su Mo Tu      We Th Fr Sa Su Mo Tu\n",
      "             1  2  3       1  2  3  4  5  6  7                1  2  3  4\n",
      " 4  5  6  7  8  9 10       8  9 10 11 12 13 14       5  6  7  8  9 10 11\n",
      "11 12 13 14 15 16 17      15 16 17 18 19 20 21      12 13 14 15 16 17 18\n",
      "18 19 20 21 22 23 24      22 23 24 25 26 27 28      19 20 21 22 23 24 25\n",
      "25 26 27 28 29 30 31      29 30 31                  26 27 28 29 30\n",
      "\n",
      "      October                   November                  December\n",
      "We Th Fr Sa Su Mo Tu      We Th Fr Sa Su Mo Tu      We Th Fr Sa Su Mo Tu\n",
      "                1  2          1  2  3  4  5  6                1  2  3  4\n",
      " 3  4  5  6  7  8  9       7  8  9 10 11 12 13       5  6  7  8  9 10 11\n",
      "10 11 12 13 14 15 16      14 15 16 17 18 19 20      12 13 14 15 16 17 18\n",
      "17 18 19 20 21 22 23      21 22 23 24 25 26 27      19 20 21 22 23 24 25\n",
      "24 25 26 27 28 29 30      28 29 30                  26 27 28 29 30 31\n",
      "31\n",
      "\n",
      "      May 2018\n",
      "We Th Fr Sa Su Mo Tu\n",
      "                   1\n",
      " 2  3  4  5  6  7  8\n",
      " 9 10 11 12 13 14 15\n",
      "16 17 18 19 20 21 22\n",
      "23 24 25 26 27 28 29\n",
      "30 31\n",
      "\n",
      "     April 2018\n",
      "We Th Fr Sa Su Mo Tu\n",
      "             1  2  3\n",
      " 4  5  6  7  8  9 10\n",
      "11 12 13 14 15 16 17\n",
      "18 19 20 21 22 23 24\n",
      "25 26 27 28 29 30\n",
      "\n",
      "(1, 31)\n",
      "[[0, 0, 0, 0, 0, 0, 1], [2, 3, 4, 5, 6, 7, 8], [9, 10, 11, 12, 13, 14, 15], [16, 17, 18, 19, 20, 21, 22], [23, 24, 25, 26, 27, 28, 29], [30, 31, 0, 0, 0, 0, 0]]\n",
      "<table border=\"0\" cellpadding=\"0\" cellspacing=\"0\" class=\"month\">\n",
      "<tr><th colspan=\"7\" class=\"month\">May 2018</th></tr>\n",
      "<tr><th class=\"mon\">Mon</th><th class=\"tue\">Tue</th><th class=\"wed\">Wed</th><th class=\"thu\">Thu</th><th class=\"fri\">Fri</th><th class=\"sat\">Sat</th><th class=\"sun\">Sun</th></tr>\n",
      "<tr><td class=\"noday\">&nbsp;</td><td class=\"tue\">1</td><td class=\"wed\">2</td><td class=\"thu\">3</td><td class=\"fri\">4</td><td class=\"sat\">5</td><td class=\"sun\">6</td></tr>\n",
      "<tr><td class=\"mon\">7</td><td class=\"tue\">8</td><td class=\"wed\">9</td><td class=\"thu\">10</td><td class=\"fri\">11</td><td class=\"sat\">12</td><td class=\"sun\">13</td></tr>\n",
      "<tr><td class=\"mon\">14</td><td class=\"tue\">15</td><td class=\"wed\">16</td><td class=\"thu\">17</td><td class=\"fri\">18</td><td class=\"sat\">19</td><td class=\"sun\">20</td></tr>\n",
      "<tr><td class=\"mon\">21</td><td class=\"tue\">22</td><td class=\"wed\">23</td><td class=\"thu\">24</td><td class=\"fri\">25</td><td class=\"sat\">26</td><td class=\"sun\">27</td></tr>\n",
      "<tr><td class=\"mon\">28</td><td class=\"tue\">29</td><td class=\"wed\">30</td><td class=\"thu\">31</td><td class=\"noday\">&nbsp;</td><td class=\"noday\">&nbsp;</td><td class=\"noday\">&nbsp;</td></tr>\n",
      "</table>\n",
      "\n",
      "False\n",
      "5\n"
     ]
    }
   ],
   "source": [
    "# python 日历模块\n",
    "import calendar\n",
    "\n",
    "print(calendar.calendar(theyear= 2018))     # 返回2017年整年日历\n",
    "print(calendar.month(2018,5))               # 返回某年某月的日历，返回类型为字符串类型\n",
    "\n",
    "calendar.setfirstweekday(calendar.WEDNESDAY) # 设置日历的第一天(第一天以星期三开始）\n",
    "cal = calendar.month(2018, 4)\n",
    "print (cal)\n",
    "\n",
    "print(calendar.monthrange(2018,5))        # 返回某个月的第一天和这个月的所有天数\n",
    "print(calendar.monthcalendar(2018,5))     # 返回某个月以每一周为元素的序列\n",
    "\n",
    "cal = calendar.HTMLCalendar(calendar.MONDAY)\n",
    "print(cal.formatmonth(2018, 5))           # 在html中打印某年某月的日历\n",
    "\n",
    "print(calendar.isleap(2018))             # 判断是否为闰年\n",
    "print(calendar.leapdays(2000,2018))       # 判断两个年份间闰年的个数"
   ]
  },
  {
   "cell_type": "code",
   "execution_count": 42,
   "metadata": {},
   "outputs": [
    {
     "name": "stdout",
     "output_type": "stream",
     "text": [
      "0.17359110286758406\n",
      "3\n",
      "7\n",
      "1N7Y\n"
     ]
    }
   ],
   "source": [
    "# random模块\n",
    "import random\n",
    "\n",
    "# 随机数\n",
    "print(random.random())              # 返回一个随机小数'0.4800545746046827'\n",
    "print(random.randint(1,5))          # 返回（1-5）随机整型数据\n",
    "print(random.randrange(1,10))       # 返回（1-10）随机数据\n",
    "\n",
    "# 生成随机验证码\n",
    "code = ''\n",
    "for i in range(4):\n",
    "    current = random.randrange(0,4)\n",
    "    if current != i:\n",
    "        temp = chr(random.randint(65,90))\n",
    "    else:\n",
    "        temp = random.randint(0,9)\n",
    "    code += str(temp)\n",
    "\n",
    "print(code)"
   ]
  },
  {
   "cell_type": "code",
   "execution_count": 50,
   "metadata": {
    "scrolled": true
   },
   "outputs": [
    {
     "name": "stdout",
     "output_type": "stream",
     "text": [
      "================= OS模块1 ================\n",
      "E:\\mobilegame\\usedoc\\python\\py3\n",
      ".\n",
      "..\n",
      "None\n",
      "None\n",
      "None\n",
      "None\n",
      "================= OS模块2 ================\n",
      "['.ipynb_checkpoints', 'animation.py', 'get_page.py', 'matplotlib.ipynb', 'metaclass.py', 'myplot.py', 'my_figure.png', 'orm.py', 'python_base.ipynb', 'python_numpy.ipynb', 'python_pandas.ipynb']\n",
      "os.stat_result(st_mode=16895, st_ino=562949953981448, st_dev=88709, st_nlink=1, st_uid=0, st_gid=0, st_size=4096, st_atime=1536307041, st_mtime=1536307041, st_ctime=1535523712)\n",
      ";\n",
      "nt\n",
      "1\n",
      "environ({'ALLUSERSPROFILE': 'C:\\\\ProgramData', 'APPDATA': 'C:\\\\Users\\\\huanglehe\\\\AppData\\\\Roaming', 'ASL.LOG': 'Destination=file', 'COMMONPROGRAMFILES': 'C:\\\\Program Files\\\\Common Files', 'COMMONPROGRAMFILES(X86)': 'C:\\\\Program Files (x86)\\\\Common Files', 'COMMONPROGRAMW6432': 'C:\\\\Program Files\\\\Common Files', 'COMPUTERNAME': 'ZT-2016517', 'COMSPEC': 'C:\\\\Windows\\\\system32\\\\cmd.exe', 'CONDA_DEFAULT_ENV': 'py3', 'CONDA_PREFIX': 'd:\\\\ProgramData\\\\Anaconda2\\\\envs\\\\py3', 'CONDA_PS1_BACKUP': '$P$G', 'FP_NO_HOST_CHECK': 'NO', 'HOMEDRIVE': 'C:', 'HOMEPATH': '\\\\Users\\\\huanglehe', 'LDMS_LOCAL_DIR': 'C:\\\\Program Files (x86)\\\\LANDesk\\\\LDClient\\\\Data', 'LOCALAPPDATA': 'C:\\\\Users\\\\huanglehe\\\\AppData\\\\Local', 'LOGONSERVER': '\\\\\\\\DCSECONDARY', 'NODE_PATH': 'E:\\\\mobilegame\\\\web\\\\nodejs\\\\node_modules', 'NUMBER_OF_PROCESSORS': '4', 'OS': 'Windows_NT', 'PATH': 'd:\\\\programdata\\\\anaconda2\\\\envs\\\\py3\\\\Library\\\\bin;d:\\\\ProgramData\\\\Anaconda2\\\\envs\\\\py3;d:\\\\ProgramData\\\\Anaconda2\\\\envs\\\\py3\\\\Library\\\\mingw-w64\\\\bin;d:\\\\ProgramData\\\\Anaconda2\\\\envs\\\\py3\\\\Library\\\\usr\\\\bin;d:\\\\ProgramData\\\\Anaconda2\\\\envs\\\\py3\\\\Library\\\\bin;d:\\\\ProgramData\\\\Anaconda2\\\\envs\\\\py3\\\\Scripts;C:\\\\Windows\\\\system32;C:\\\\Windows;C:\\\\Windows\\\\System32\\\\Wbem;C:\\\\Windows\\\\System32\\\\WindowsPowerShell\\\\v1.0\\\\;C:\\\\Program Files\\\\TortoiseSVN\\\\bin;C:\\\\Program Files (x86)\\\\NVIDIA Corporation\\\\PhysX\\\\Common;C:\\\\Program Files\\\\Git\\\\cmd;E:\\\\mobilegame\\\\web\\\\nodejs\\\\;d:\\\\Program Files\\\\Microsoft VS Code\\\\bin;D:\\\\ProgramData\\\\Anaconda2;d:\\\\Program Files\\\\Microsoft VS Code\\\\bin;C:\\\\Users\\\\huanglehe\\\\AppData\\\\Roaming\\\\npm;E:\\\\mobilegame\\\\web\\\\nodejs', 'PATHEXT': '.COM;.EXE;.BAT;.CMD;.VBS;.VBE;.JS;.JSE;.WSF;.WSH;.MSC', 'PROCESSOR_ARCHITECTURE': 'AMD64', 'PROCESSOR_IDENTIFIER': 'Intel64 Family 6 Model 158 Stepping 9, GenuineIntel', 'PROCESSOR_LEVEL': '6', 'PROCESSOR_REVISION': '9e09', 'PROGRAMDATA': 'C:\\\\ProgramData', 'PROGRAMFILES': 'C:\\\\Program Files', 'PROGRAMFILES(X86)': 'C:\\\\Program Files (x86)', 'PROGRAMW6432': 'C:\\\\Program Files', 'PROMPT': '(py3) $P$G', 'PSMODULEPATH': 'C:\\\\Windows\\\\system32\\\\WindowsPowerShell\\\\v1.0\\\\Modules\\\\', 'PUBLIC': 'C:\\\\Users\\\\Public', 'SESSIONNAME': 'Console', 'SYSTEMDRIVE': 'C:', 'SYSTEMROOT': 'C:\\\\Windows', 'TEMP': 'C:\\\\Users\\\\HUANGL~1\\\\AppData\\\\Local\\\\Temp', 'TMP': 'C:\\\\Users\\\\HUANGL~1\\\\AppData\\\\Local\\\\Temp', 'UATDATA': 'C:\\\\Windows\\\\CCM\\\\UATData\\\\D9F8C395-CAB8-491d-B8AC-179A1FE1BE77', 'USERDNSDOMAIN': 'ZTGAME.COM', 'USERDOMAIN': 'ZTGAME', 'USERNAME': 'huanglehe', 'USERPROFILE': 'C:\\\\Users\\\\huanglehe', 'WINDIR': 'C:\\\\Windows', 'WINDOWS_TRACING_FLAGS': '3', 'WINDOWS_TRACING_LOGFILE': 'C:\\\\BVTBin\\\\Tests\\\\installpackage\\\\csilogfile.log', 'JPY_INTERRUPT_EVENT': '996', 'IPY_INTERRUPT_EVENT': '996', 'JPY_PARENT_PID': '992', 'TERM': 'xterm-color', 'CLICOLOR': '1', 'PAGER': 'cat', 'GIT_PAGER': 'cat', 'MPLBACKEND': 'module://ipykernel.pylab.backend_inline'})\n",
      "================= OS模块3 ================\n",
      "E:\\mobilegame\\usedoc\\python\\py3\n",
      "('E:\\\\mobilegame\\\\usedoc\\\\python', 'py3')\n",
      "E:\\mobilegame\\usedoc\\python\n",
      "py3\n",
      "False\n",
      "True\n",
      "False\n",
      "True\n",
      "1536307041.3739998\n",
      "1536307041.3739998\n"
     ]
    }
   ],
   "source": [
    "# OS模块\n",
    "import os\n",
    "\n",
    "print('================= OS模块1 ================')\n",
    "print(os.getcwd())           # 获得当前工作目录\n",
    "#print(os.chdir(\"dirname\"))   # 改变当前脚本的工作路径，相当于shell下的cd\n",
    "print(os.curdir)             # 返回当前目录‘.'\n",
    "print(os.pardir)             # 获取当前目录的父目录字符串名‘..'\n",
    "print(os.makedirs('dirname1/dirname2'))     # 可生成多层递归目录\n",
    "print(os.removedirs('dirname1/dirname2'))      # 若目录为空，则删除，并递归到上一级目录，如若也为空，则删除，依此类推\n",
    "print(os.mkdir('test4'))         # 生成单级目录；相当于shell中mkdir dirname\n",
    "print(os.rmdir('test4'))        # 删除单级空目录，若目录不为空则无法删除，报错；相当于shell中rmdir dirname\n",
    "\n",
    "print('================= OS模块2 ================')\n",
    "print(os.listdir('E:\\\\mobilegame\\\\usedoc\\\\python\\\\py3'))   # 列出指定目录下的所有文件和子目录，包括隐藏文件，并以列表方式打印\n",
    "#print(os.remove('log.log'))            # 删除一个指定的文件\n",
    "#print(os.rename(\"oldname\",\"newname\"))    # 重命名文件/目录)\n",
    "print(os.stat('E:\\\\mobilegame\\\\usedoc\\\\python\\\\py3'))     # 获取文件/目录信息\n",
    "print(os.pathsep)            # 输出用于分割文件路径的字符串';'\n",
    "print(os.name)               # 输出字符串指示当前使用平台。win->'nt'; Linux->'posix'\n",
    "print(os.system(command='bash'))   # 运行shell命令，直接显示\n",
    "print(os.environ)                  # 获得系统的环境变量\n",
    "\n",
    "print('================= OS模块3 ================')\n",
    "print(os.path.abspath('E:\\\\mobilegame\\\\usedoc\\\\python\\\\py3'))   # 返回path规范化的绝对路径\n",
    "print(os.path.split('E:\\\\mobilegame\\\\usedoc\\\\python\\\\py3'))     # 将path分割成目录和文件名二元组返回\n",
    "print(os.path.dirname('E:\\\\mobilegame\\\\usedoc\\\\python\\\\py3'))    # 返回path的目录。其实就是os.path.split(path)的第一个元素\n",
    "print(os.path.basename('E:\\\\mobilegame\\\\usedoc\\\\python\\\\py3'))   # 返回path最后的文件名。如果path以／或\\结尾，那么就会返回空值。即os.path.split(path)的第二个元素\n",
    "print(os.path.exists('test'))                 # 判断path是否存在\n",
    "print(os.path.isabs('E:\\\\mobilegame\\\\usedoc\\\\python\\\\py3'))    # 如果path是绝对路径，返回True\n",
    "print(os.path.isfile('test'))                   # 如果path是一个存在的文件，返回True。否则返回False\n",
    "print(os.path.isdir('E:\\\\mobilegame\\\\usedoc\\\\python\\\\py3'))    # 如果path是一个存在的目录，则返回True。否则返回False\n",
    "print(os.path.getatime('E:\\\\mobilegame\\\\usedoc\\\\python\\\\py3'))   # 返回path所指向的文件或者目录的最后存取时间\n",
    "print(os.path.getmtime('E:\\\\mobilegame\\\\usedoc\\\\python\\\\py3'))   # 返回path所指向的文件或者目录的最后修改时间"
   ]
  },
  {
   "cell_type": "code",
   "execution_count": 52,
   "metadata": {},
   "outputs": [
    {
     "name": "stdout",
     "output_type": "stream",
     "text": [
      "['d:\\\\programdata\\\\anaconda2\\\\envs\\\\py3\\\\lib\\\\site-packages\\\\ipykernel_launcher.py', '-f', 'C:\\\\Users\\\\huanglehe\\\\AppData\\\\Roaming\\\\jupyter\\\\runtime\\\\kernel-f0a98085-9c6b-484d-a0ad-0513ae35be0d.json']\n",
      "3.6.4 |Anaconda, Inc.| (default, Jan 16 2018, 10:22:32) [MSC v.1900 64 bit (AMD64)]\n",
      "['', 'd:\\\\programdata\\\\anaconda2\\\\envs\\\\py3\\\\python36.zip', 'd:\\\\programdata\\\\anaconda2\\\\envs\\\\py3\\\\DLLs', 'd:\\\\programdata\\\\anaconda2\\\\envs\\\\py3\\\\lib', 'd:\\\\programdata\\\\anaconda2\\\\envs\\\\py3', 'd:\\\\programdata\\\\anaconda2\\\\envs\\\\py3\\\\lib\\\\site-packages', 'd:\\\\programdata\\\\anaconda2\\\\envs\\\\py3\\\\lib\\\\site-packages\\\\jaqs-0.6.12-py3.6.egg', 'd:\\\\programdata\\\\anaconda2\\\\envs\\\\py3\\\\lib\\\\site-packages\\\\future-0.16.0-py3.6.egg', 'd:\\\\programdata\\\\anaconda2\\\\envs\\\\py3\\\\lib\\\\site-packages\\\\pip-18.0-py3.6.egg', 'd:\\\\programdata\\\\anaconda2\\\\envs\\\\py3\\\\lib\\\\site-packages\\\\win32', 'd:\\\\programdata\\\\anaconda2\\\\envs\\\\py3\\\\lib\\\\site-packages\\\\win32\\\\lib', 'd:\\\\programdata\\\\anaconda2\\\\envs\\\\py3\\\\lib\\\\site-packages\\\\Pythonwin', 'd:\\\\programdata\\\\anaconda2\\\\envs\\\\py3\\\\lib\\\\site-packages\\\\IPython\\\\extensions', 'C:\\\\Users\\\\huanglehe\\\\.ipython']\n",
      "win32\n"
     ]
    }
   ],
   "source": [
    "# sys模块\n",
    "import sys\n",
    "\n",
    "print(sys.argv)          # 命令行参数List，第一个元素是程序本身路径\n",
    "# print(sys.exit(n))       # 退出程序，正常退出时exit(0)\n",
    "print(sys.version)       # 获取python的版本信息\n",
    "print(sys.path)          # 返回模块的搜索路径，初始化时使用PYTHONPATH环境变量的值\n",
    "print(sys.platform)      # 返回操作平台的名称"
   ]
  },
  {
   "cell_type": "code",
   "execution_count": 53,
   "metadata": {},
   "outputs": [
    {
     "name": "stderr",
     "output_type": "stream",
     "text": [
      "2018-09-07 16:41:43,448 - TEST_LOG - DEBUG - debug message\n",
      "2018-09-07 16:41:43,526 - TEST_LOG - INFO - info message\n",
      "d:\\programdata\\anaconda2\\envs\\py3\\lib\\site-packages\\ipykernel_launcher.py:25: DeprecationWarning: The 'warn' method is deprecated, use 'warning' instead\n",
      "2018-09-07 16:41:43,704 - TEST_LOG - WARNING - warn message\n",
      "2018-09-07 16:41:43,724 - TEST_LOG - ERROR - error message\n",
      "2018-09-07 16:41:43,725 - TEST_LOG - CRITICAL - critical message\n"
     ]
    }
   ],
   "source": [
    " # 日记\n",
    "import logging\n",
    "\n",
    "logger = logging.getLogger('TEST_LOG')    # 获得一个Logger\n",
    "logger.setLevel(logging.DEBUG)            # 设置日志级别\n",
    "\n",
    "ch = logging.StreamHandler()            # logging.StreamHandler这个Handler可以向类似与sys.stdout或者sys.stderr的任何文件对象(file object)输出信息。\n",
    "ch.setLevel(logging.DEBUG)\n",
    "\n",
    "fh = logging.FileHandler(\"access.log\")  # 用于向一个文件输出日志信息。不过FileHandler会帮你打开这个文件\n",
    "fh.setLevel(logging.WARNING)\n",
    "\n",
    "formatter = logging.Formatter('%(asctime)s - %(name)s - %(levelname)s - %(message)s')  # 设置日志记录的最终输出格式\n",
    "ch.setFormatter(formatter)\n",
    "fh.setFormatter(formatter)\n",
    "\n",
    "# 添加ch,fh到logger\n",
    "logger.addHandler(ch)\n",
    "logger.addHandler(fh)\n",
    "\n",
    "logger.debug('debug message')\n",
    "logger.info('info message')\n",
    "logger.warn('warn message')\n",
    "logger.error('error message')\n",
    "logger.critical('critical message')"
   ]
  },
  {
   "cell_type": "code",
   "execution_count": 55,
   "metadata": {},
   "outputs": [
    {
     "name": "stdout",
     "output_type": "stream",
     "text": [
      "map结果: [1, 4, 9, 16, 25, 36, 49, 64, 81]\n"
     ]
    }
   ],
   "source": [
    "# python-函数式编程\n",
    "# 1.map\n",
    "L = [1,2,3,4,5,6,7,8,9]\n",
    "def f1(x):\n",
    "    return x ** 2\n",
    "R = list(map(f1,L)) # 让map的结果转换为list\n",
    "print(\"map结果:\",R) # == > map结果: [1, 4, 9, 16, 25, 36, 49, 64, 81]"
   ]
  },
  {
   "cell_type": "code",
   "execution_count": 59,
   "metadata": {},
   "outputs": [
    {
     "name": "stdout",
     "output_type": "stream",
     "text": [
      "reduce结果为: 13579\n"
     ]
    }
   ],
   "source": [
    "# 2.reduce\n",
    "# 2.1 把序列[1, 3, 5, 7, 9]变换成整数13579\n",
    "from functools import reduce\n",
    "def fn(x, y):\n",
    "    return x * 10 + y\n",
    "a = reduce(fn, [1, 3, 5, 7, 9])\n",
    "print(\"reduce结果为:\",a) # == > reduce结果为: 13579"
   ]
  },
  {
   "cell_type": "code",
   "execution_count": 64,
   "metadata": {},
   "outputs": [
    {
     "data": {
      "text/plain": [
       "12345678"
      ]
     },
     "execution_count": 64,
     "metadata": {},
     "output_type": "execute_result"
    }
   ],
   "source": [
    "def f2(x):\n",
    "    return x - 1\n",
    "reduce(fn, map(f2,L))"
   ]
  },
  {
   "cell_type": "code",
   "execution_count": 65,
   "metadata": {},
   "outputs": [
    {
     "name": "stdout",
     "output_type": "stream",
     "text": [
      "s= 12345\n",
      "练习3的结果: 123.45\n"
     ]
    }
   ],
   "source": [
    "# 3.利用map和reduce编写一个str2float函数，把字符串'123.456'转换成浮点数123.456\n",
    "def str2float(s):\n",
    "    dot = 0\n",
    "    num = 0\n",
    "    if \".\" in s:\n",
    "        for i,x in enumerate(s):\n",
    "            if x == \".\":\n",
    "                dot = len(s) - i - 1\n",
    "                s = s.replace('.','')\n",
    "                break\n",
    "    else:\n",
    "        s = s\n",
    "    print(\"s=\",s)\n",
    "    def fn(x,y):\n",
    "        return x * 10 + y\n",
    "    def char2num(s):\n",
    "        return {'0': 0, '1': 1, '2': 2, '3': 3, '4': 4, '5': 5, '6': 6, '7': 7, '8': 8, '9': 9}[s]\n",
    "    return reduce(fn,map(char2num,s)) / (10**dot)\n",
    "A = str2float(\"123.45\")\n",
    "print(\"练习3的结果:\",A) # == > 练习3的结果: 123.45"
   ]
  },
  {
   "cell_type": "code",
   "execution_count": 66,
   "metadata": {},
   "outputs": [
    {
     "name": "stdout",
     "output_type": "stream",
     "text": [
      "[1, 5, 9, 15]\n"
     ]
    }
   ],
   "source": [
    "# 3.filter:用于过滤序列和map()类似，filter()也接收一个函数和一个序列。和map()不同的是，filter()把传入的函数依次作用于每个元素，然后根据返回值是True还是False决定保留还是丢弃该元素。\n",
    "def is_odd(n):\n",
    "    return n % 2 == 1\n",
    "L1 = list(filter(is_odd, [1, 2, 4, 5, 6, 9, 10, 15]))\n",
    "print(L1) # ==> [1, 5, 9, 15]"
   ]
  },
  {
   "cell_type": "code",
   "execution_count": 72,
   "metadata": {},
   "outputs": [
    {
     "name": "stdout",
     "output_type": "stream",
     "text": [
      "升序排列: [-20, 1, 3, 6, 34]\n",
      "自定义排序: [1, 3, 6, -20, -70]\n",
      "自定义反向排序: [-70, -20, 6, 3, 1]\n",
      "字符串排序: ['ABC', 'D', 'abc', 'd']\n",
      "忽略字符串大小写排序: ['ABC', 'abc', 'D', 'd']\n",
      "忽略字符串大小写反向排序: ['D', 'd', 'ABC', 'abc']\n"
     ]
    }
   ],
   "source": [
    "# 4.sorted 排序算法\n",
    "sorter1 = sorted([1,3,6,-20,34])\n",
    "print(\"升序排列:\",sorter1)\n",
    "# 4.1 sorted()函数也是一个高阶函数，它还可以接收一个key函数来实现自定义的排序\n",
    "sorter2 = sorted([1,3,6,-20,-70],key=abs)\n",
    "print(\"自定义排序:\",sorter2)\n",
    "sorter2 = sorted([1,3,6,-20,-70],key=abs,reverse=True)\n",
    "print(\"自定义反向排序:\",sorter2)\n",
    "# 4.2 字符串排序依照ASCII\n",
    "sorter3 = sorted([\"ABC\",\"abc\",\"D\",\"d\"])\n",
    "print(\"字符串排序:\",sorter3)\n",
    "# 4.3 忽略大小写排序\n",
    "sorter4 = sorted([\"ABC\",\"abc\",\"D\",\"d\"],key=str.lower)\n",
    "print(\"忽略字符串大小写排序:\",sorter4)\n",
    "# 4.4 要进行反向排序，不必改动key函数，可以传入第三个参数reverse=True：\n",
    "sorter5 = sorted([\"ABC\",\"abc\",\"D\",\"d\"],key=str.lower,reverse=True)\n",
    "print(\"忽略字符串大小写反向排序:\",sorter5)"
   ]
  },
  {
   "cell_type": "code",
   "execution_count": 71,
   "metadata": {},
   "outputs": [
    {
     "name": "stdout",
     "output_type": "stream",
     "text": [
      "hello df and another df\n",
      "hello df and another df\n",
      "hello df and another df\n"
     ]
    }
   ],
   "source": [
    "# python的三种字符串格式化方法\n",
    "# 参考: https://www.cnblogs.com/lvcm/p/8859225.html\n",
    "print('hello %s and %s' % ('df', 'another df'))\n",
    "print('hello %(first)s and %(second)s' % {'first': 'df', 'second': 'another df'})\n",
    "print('hello {first} and {second}'.format(first='df', second='another df'))"
   ]
  },
  {
   "cell_type": "code",
   "execution_count": 74,
   "metadata": {},
   "outputs": [
    {
     "name": "stdout",
     "output_type": "stream",
     "text": [
      "匿名函数: [1, 4, 9, 16, 25, 36, 49, 64, 81]\n"
     ]
    }
   ],
   "source": [
    "# 匿名函数:lambda\n",
    "L6 = list(map(lambda x: x * x, [1, 2, 3, 4, 5, 6, 7, 8, 9]))\n",
    "print(\"匿名函数:\",L6) # ==> [1, 4, 9, 16, 25, 36, 49, 64, 81]"
   ]
  },
  {
   "cell_type": "code",
   "execution_count": null,
   "metadata": {},
   "outputs": [],
   "source": []
  }
 ],
 "metadata": {
  "kernelspec": {
   "display_name": "Python 3",
   "language": "python",
   "name": "python3"
  },
  "language_info": {
   "codemirror_mode": {
    "name": "ipython",
    "version": 3
   },
   "file_extension": ".py",
   "mimetype": "text/x-python",
   "name": "python",
   "nbconvert_exporter": "python",
   "pygments_lexer": "ipython3",
   "version": "3.6.7"
  },
  "toc": {
   "base_numbering": 1,
   "nav_menu": {},
   "number_sections": true,
   "sideBar": true,
   "skip_h1_title": false,
   "title_cell": "Table of Contents",
   "title_sidebar": "Contents",
   "toc_cell": false,
   "toc_position": {},
   "toc_section_display": true,
   "toc_window_display": false
  }
 },
 "nbformat": 4,
 "nbformat_minor": 2
}
